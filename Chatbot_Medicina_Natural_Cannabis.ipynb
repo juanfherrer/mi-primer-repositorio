{
  "cells": [
    {
      "cell_type": "markdown",
      "metadata": {
        "id": "view-in-github",
        "colab_type": "text"
      },
      "source": [
        "<a href=\"https://colab.research.google.com/github/juanfherrer/mi-primer-repositorio/blob/main/Chatbot_Medicina_Natural_Cannabis.ipynb\" target=\"_parent\"><img src=\"https://colab.research.google.com/assets/colab-badge.svg\" alt=\"Open In Colab\"/></a>"
      ]
    },
    {
      "cell_type": "markdown",
      "metadata": {
        "id": "USfyjXsUXT4E"
      },
      "source": [
        "# 🤖 Chatbot Médico Natural en Español - Cannabis Medicinal\n",
        "\n",
        "Este chatbot te ayudará a identificar posibles condiciones de salud tratables con medicina natural basada en cannabis.\n",
        "\n",
        "**⚠️ Importante:** Este asistente no reemplaza una consulta médica profesional. Consulta siempre con un especialista."
      ],
      "id": "USfyjXsUXT4E"
    },
    {
      "cell_type": "code",
      "execution_count": 1,
      "metadata": {
        "colab": {
          "base_uri": "https://localhost:8080/"
        },
        "id": "DL6rtcCIXT4H",
        "outputId": "ad1d310c-2e64-4534-bd40-64138c315a33"
      },
      "outputs": [
        {
          "output_type": "stream",
          "name": "stdout",
          "text": [
            "Collecting es-core-news-sm==3.8.0\n",
            "  Downloading https://github.com/explosion/spacy-models/releases/download/es_core_news_sm-3.8.0/es_core_news_sm-3.8.0-py3-none-any.whl (12.9 MB)\n",
            "\u001b[2K     \u001b[90m━━━━━━━━━━━━━━━━━━━━━━━━━━━━━━━━━━━━━━━━\u001b[0m \u001b[32m12.9/12.9 MB\u001b[0m \u001b[31m58.4 MB/s\u001b[0m eta \u001b[36m0:00:00\u001b[0m\n",
            "\u001b[?25hInstalling collected packages: es-core-news-sm\n",
            "Successfully installed es-core-news-sm-3.8.0\n",
            "\u001b[38;5;2m✔ Download and installation successful\u001b[0m\n",
            "You can now load the package via spacy.load('es_core_news_sm')\n",
            "\u001b[38;5;3m⚠ Restart to reload dependencies\u001b[0m\n",
            "If you are in a Jupyter or Colab notebook, you may need to restart Python in\n",
            "order to load all the package's dependencies. You can do this by selecting the\n",
            "'Restart kernel' or 'Restart runtime' option.\n"
          ]
        }
      ],
      "source": [
        "# Instalar y cargar modelo de spaCy en español\n",
        "!python -m spacy download es_core_news_sm\n",
        "import spacy\n",
        "nlp = spacy.load(\"es_core_news_sm\")"
      ],
      "id": "DL6rtcCIXT4H"
    },
    {
      "cell_type": "code",
      "execution_count": 2,
      "metadata": {
        "id": "kg29UaorXT4I"
      },
      "outputs": [],
      "source": [
        "# Diccionarios con datos médicos naturales\n",
        "datos_medicos = {\n",
        "    \"dolor crónico\": [\"fibromialgia\", \"artritis\", \"esclerosis múltiple\", \"migraña\"],\n",
        "    \"inflamación\": [\"artritis\", \"colitis\", \"lesiones musculares\"],\n",
        "    \"ansiedad\": [\"trastorno de ansiedad generalizada\", \"estrés crónico\", \"insomnio\"],\n",
        "    \"insomnio\": [\"insomnio\", \"estrés crónico\"],\n",
        "    \"náuseas\": [\"efectos secundarios de quimioterapia\", \"problemas digestivos\"],\n",
        "    \"espasticidad\": [\"esclerosis múltiple\", \"parálisis cerebral\"]\n",
        "}\n",
        "\n",
        "recomendaciones_medicas = {\n",
        "    \"fibromialgia\": \"El aceite de CBD puede aliviar el dolor generalizado. Complementar con ejercicio suave y masajes terapéuticos.\",\n",
        "    \"artritis\": \"El uso tópico de cremas con CBD reduce inflamación y dolor. Complementar con alimentación antiinflamatoria.\",\n",
        "    \"esclerosis múltiple\": \"Los cannabinoides pueden reducir la espasticidad y el dolor neuropático.\",\n",
        "    \"migraña\": \"El CBD puede disminuir la frecuencia de migrañas. Recomendable mantener una rutina de sueño.\",\n",
        "    \"colitis\": \"Algunas personas encuentran alivio con CBD. Consulta un gastroenterólogo funcional.\",\n",
        "    \"lesiones musculares\": \"El uso local de cremas con CBD reduce la inflamación. Reposo y fisioterapia ayudan.\",\n",
        "    \"trastorno de ansiedad generalizada\": \"El CBD en microdosis ha mostrado efecto ansiolítico. Se recomienda acompañar con respiración consciente.\",\n",
        "    \"estrés crónico\": \"Rutinas con meditación, alimentación y uso de CBD pueden ayudar.\",\n",
        "    \"insomnio\": \"Una dosis baja de CBD antes de dormir mejora la calidad del sueño.\",\n",
        "    \"efectos secundarios de quimioterapia\": \"El THC y CBD ayudan a reducir náuseas y a mejorar el apetito.\",\n",
        "    \"problemas digestivos\": \"El CBD puede reducir el malestar gastrointestinal.\",\n",
        "    \"parálisis cerebral\": \"Uso controlado de cannabis medicinal puede reducir la espasticidad muscular.\"\n",
        "}"
      ],
      "id": "kg29UaorXT4I"
    },
    {
      "cell_type": "code",
      "execution_count": 3,
      "metadata": {
        "id": "7ZNk7BJpXT4J"
      },
      "outputs": [],
      "source": [
        "# Funciones del chatbot\n",
        "def extraer_sintomas(entrada_usuario):\n",
        "    doc = nlp(entrada_usuario)\n",
        "    sintomas_extraidos = []\n",
        "    for token in doc:\n",
        "        palabra = token.text.lower()\n",
        "        if palabra in datos_medicos and palabra not in sintomas_extraidos:\n",
        "            sintomas_extraidos.append(palabra)\n",
        "    return sintomas_extraidos\n",
        "\n",
        "def analizar_sintomas(sintomas_extraidos):\n",
        "    posibles_condiciones = {}\n",
        "    for sintoma in sintomas_extraidos:\n",
        "        if sintoma in datos_medicos:\n",
        "            for condicion in datos_medicos[sintoma]:\n",
        "                if condicion in posibles_condiciones:\n",
        "                    posibles_condiciones[condicion] += 1\n",
        "                else:\n",
        "                    posibles_condiciones[condicion] = 1\n",
        "    return posibles_condiciones\n",
        "\n",
        "def generar_respuesta(sintomas_extraidos, posibles_condiciones):\n",
        "    respuesta = \"\"\n",
        "    if sintomas_extraidos:\n",
        "        respuesta += \"Entiendo que presentas los siguientes síntomas: \" + \", \".join(sintomas_extraidos) + \".\\n\\n\"\n",
        "\n",
        "        if posibles_condiciones:\n",
        "            respuesta += \"Basado en los síntomas mencionados, podrías estar experimentando:\\n\"\n",
        "            condiciones_ordenadas = sorted(posibles_condiciones.items(), key=lambda item: item[1], reverse=True)\n",
        "            for condicion, conteo in condiciones_ordenadas:\n",
        "                respuesta += f\"  - {condicion} ({conteo} síntoma(s) coincidente(s))\\n\"\n",
        "                if condicion in recomendaciones_medicas:\n",
        "                    respuesta += f\"    * {recomendaciones_medicas[condicion]}\\n\"\n",
        "        else:\n",
        "            respuesta += \"\\nLo siento, no reconozco estas combinaciones de síntomas.\"\n",
        "    else:\n",
        "        respuesta = \"No pude identificar ningún síntoma en tu descripción.\"\n",
        "\n",
        "    respuesta += \"\\n\\n🧾 Importante: Soy un asistente virtual y no reemplazo una consulta médica. Por favor consulta un profesional de salud integrativa.\"\n",
        "    return respuesta"
      ],
      "id": "7ZNk7BJpXT4J"
    },
    {
      "cell_type": "code",
      "execution_count": 4,
      "metadata": {
        "colab": {
          "base_uri": "https://localhost:8080/"
        },
        "id": "mL5JsqIcXT4K",
        "outputId": "91394f21-4ba5-4ff4-9f3f-1a800faf221d"
      },
      "outputs": [
        {
          "output_type": "stream",
          "name": "stdout",
          "text": [
            "Hola, ¿qué síntoma principal te aqueja?: insomnio\n",
            "\n",
            "Chatbot: Entiendo que presentas los siguientes síntomas: insomnio.\n",
            "\n",
            "Basado en los síntomas mencionados, podrías estar experimentando:\n",
            "  - insomnio (1 síntoma(s) coincidente(s))\n",
            "    * Una dosis baja de CBD antes de dormir mejora la calidad del sueño.\n",
            "  - estrés crónico (1 síntoma(s) coincidente(s))\n",
            "    * Rutinas con meditación, alimentación y uso de CBD pueden ayudar.\n",
            "\n",
            "\n",
            "🧾 Importante: Soy un asistente virtual y no reemplazo una consulta médica. Por favor consulta un profesional de salud integrativa.\n",
            "\n",
            "¿Deseas agregar otro síntoma? (escribe 'no' para terminar): inflamación\n",
            "\n",
            "Chatbot: Entiendo que presentas los siguientes síntomas: insomnio, inflamación.\n",
            "\n",
            "Basado en los síntomas mencionados, podrías estar experimentando:\n",
            "  - insomnio (1 síntoma(s) coincidente(s))\n",
            "    * Una dosis baja de CBD antes de dormir mejora la calidad del sueño.\n",
            "  - estrés crónico (1 síntoma(s) coincidente(s))\n",
            "    * Rutinas con meditación, alimentación y uso de CBD pueden ayudar.\n",
            "  - artritis (1 síntoma(s) coincidente(s))\n",
            "    * El uso tópico de cremas con CBD reduce inflamación y dolor. Complementar con alimentación antiinflamatoria.\n",
            "  - colitis (1 síntoma(s) coincidente(s))\n",
            "    * Algunas personas encuentran alivio con CBD. Consulta un gastroenterólogo funcional.\n",
            "  - lesiones musculares (1 síntoma(s) coincidente(s))\n",
            "    * El uso local de cremas con CBD reduce la inflamación. Reposo y fisioterapia ayudan.\n",
            "\n",
            "\n",
            "🧾 Importante: Soy un asistente virtual y no reemplazo una consulta médica. Por favor consulta un profesional de salud integrativa.\n",
            "\n",
            "¿Deseas agregar otro síntoma? (escribe 'no' para terminar): no\n",
            "\n",
            "Chatbot: Entiendo que presentas los siguientes síntomas: insomnio, inflamación.\n",
            "\n",
            "Basado en los síntomas mencionados, podrías estar experimentando:\n",
            "  - insomnio (1 síntoma(s) coincidente(s))\n",
            "    * Una dosis baja de CBD antes de dormir mejora la calidad del sueño.\n",
            "  - estrés crónico (1 síntoma(s) coincidente(s))\n",
            "    * Rutinas con meditación, alimentación y uso de CBD pueden ayudar.\n",
            "  - artritis (1 síntoma(s) coincidente(s))\n",
            "    * El uso tópico de cremas con CBD reduce inflamación y dolor. Complementar con alimentación antiinflamatoria.\n",
            "  - colitis (1 síntoma(s) coincidente(s))\n",
            "    * Algunas personas encuentran alivio con CBD. Consulta un gastroenterólogo funcional.\n",
            "  - lesiones musculares (1 síntoma(s) coincidente(s))\n",
            "    * El uso local de cremas con CBD reduce la inflamación. Reposo y fisioterapia ayudan.\n",
            "\n",
            "\n",
            "🧾 Importante: Soy un asistente virtual y no reemplazo una consulta médica. Por favor consulta un profesional de salud integrativa.\n"
          ]
        }
      ],
      "source": [
        "# Iniciar conversación\n",
        "sintomas_extraidos = []\n",
        "posibles_condiciones = []\n",
        "\n",
        "entrada_usuario = input(\"Hola, ¿qué síntoma principal te aqueja?: \")\n",
        "sintomas_extraidos = extraer_sintomas(entrada_usuario)\n",
        "posibles_condiciones = analizar_sintomas(sintomas_extraidos)\n",
        "respuesta = generar_respuesta(sintomas_extraidos, posibles_condiciones)\n",
        "print(\"\\nChatbot:\", respuesta)\n",
        "\n",
        "while True:\n",
        "    nuevos = input(\"\\n¿Deseas agregar otro síntoma? (escribe 'no' para terminar): \")\n",
        "    if nuevos.lower() in (\"no\", \"ninguno\", \"nada más\"):\n",
        "        break\n",
        "    nuevos_sintomas = extraer_sintomas(nuevos)\n",
        "    if nuevos_sintomas:\n",
        "        sintomas_extraidos.extend(nuevos_sintomas)\n",
        "        posibles_condiciones = analizar_sintomas(sintomas_extraidos)\n",
        "        respuesta = generar_respuesta(sintomas_extraidos, posibles_condiciones)\n",
        "        print(\"\\nChatbot:\", respuesta)\n",
        "    else:\n",
        "        print(\"Chatbot: No pude reconocer ese síntoma. Intenta con otra palabra.\")\n",
        "\n",
        "print(\"\\nChatbot:\", respuesta)"
      ],
      "id": "mL5JsqIcXT4K"
    }
  ],
  "metadata": {
    "kernelspec": {
      "display_name": "Python 3",
      "language": "python",
      "name": "python3"
    },
    "language_info": {
      "name": "python",
      "version": "3.8"
    },
    "colab": {
      "provenance": [],
      "include_colab_link": true
    }
  },
  "nbformat": 4,
  "nbformat_minor": 5
}