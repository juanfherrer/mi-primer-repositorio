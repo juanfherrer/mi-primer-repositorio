{
  "nbformat": 4,
  "nbformat_minor": 0,
  "metadata": {
    "colab": {
      "provenance": [],
      "authorship_tag": "ABX9TyOevGpktRSWAol9v1pAzedb",
      "include_colab_link": true
    },
    "kernelspec": {
      "name": "python3",
      "display_name": "Python 3"
    },
    "language_info": {
      "name": "python"
    }
  },
  "cells": [
    {
      "cell_type": "markdown",
      "metadata": {
        "id": "view-in-github",
        "colab_type": "text"
      },
      "source": [
        "<a href=\"https://colab.research.google.com/github/juanfherrer/mi-primer-repositorio/blob/main/chatbot_projec1.ipynb\" target=\"_parent\"><img src=\"https://colab.research.google.com/assets/colab-badge.svg\" alt=\"Open In Colab\"/></a>"
      ]
    },
    {
      "cell_type": "code",
      "execution_count": null,
      "metadata": {
        "colab": {
          "base_uri": "https://localhost:8080/"
        },
        "id": "9vODrzEhqCxK",
        "outputId": "8414ba0e-be10-4be6-cace-34cde6fb6a00"
      },
      "outputs": [
        {
          "output_type": "stream",
          "name": "stdout",
          "text": [
            "Requirement already satisfied: spaCy in /usr/local/lib/python3.11/dist-packages (3.8.5)\n",
            "Requirement already satisfied: spacy-legacy<3.1.0,>=3.0.11 in /usr/local/lib/python3.11/dist-packages (from spaCy) (3.0.12)\n",
            "Requirement already satisfied: spacy-loggers<2.0.0,>=1.0.0 in /usr/local/lib/python3.11/dist-packages (from spaCy) (1.0.5)\n",
            "Requirement already satisfied: murmurhash<1.1.0,>=0.28.0 in /usr/local/lib/python3.11/dist-packages (from spaCy) (1.0.12)\n",
            "Requirement already satisfied: cymem<2.1.0,>=2.0.2 in /usr/local/lib/python3.11/dist-packages (from spaCy) (2.0.11)\n",
            "Requirement already satisfied: preshed<3.1.0,>=3.0.2 in /usr/local/lib/python3.11/dist-packages (from spaCy) (3.0.9)\n",
            "Requirement already satisfied: thinc<8.4.0,>=8.3.4 in /usr/local/lib/python3.11/dist-packages (from spaCy) (8.3.6)\n",
            "Requirement already satisfied: wasabi<1.2.0,>=0.9.1 in /usr/local/lib/python3.11/dist-packages (from spaCy) (1.1.3)\n",
            "Requirement already satisfied: srsly<3.0.0,>=2.4.3 in /usr/local/lib/python3.11/dist-packages (from spaCy) (2.5.1)\n",
            "Requirement already satisfied: catalogue<2.1.0,>=2.0.6 in /usr/local/lib/python3.11/dist-packages (from spaCy) (2.0.10)\n",
            "Requirement already satisfied: weasel<0.5.0,>=0.1.0 in /usr/local/lib/python3.11/dist-packages (from spaCy) (0.4.1)\n",
            "Requirement already satisfied: typer<1.0.0,>=0.3.0 in /usr/local/lib/python3.11/dist-packages (from spaCy) (0.15.2)\n",
            "Requirement already satisfied: tqdm<5.0.0,>=4.38.0 in /usr/local/lib/python3.11/dist-packages (from spaCy) (4.67.1)\n",
            "Requirement already satisfied: numpy>=1.19.0 in /usr/local/lib/python3.11/dist-packages (from spaCy) (2.0.2)\n",
            "Requirement already satisfied: requests<3.0.0,>=2.13.0 in /usr/local/lib/python3.11/dist-packages (from spaCy) (2.32.3)\n",
            "Requirement already satisfied: pydantic!=1.8,!=1.8.1,<3.0.0,>=1.7.4 in /usr/local/lib/python3.11/dist-packages (from spaCy) (2.11.3)\n",
            "Requirement already satisfied: jinja2 in /usr/local/lib/python3.11/dist-packages (from spaCy) (3.1.6)\n",
            "Requirement already satisfied: setuptools in /usr/local/lib/python3.11/dist-packages (from spaCy) (75.2.0)\n",
            "Requirement already satisfied: packaging>=20.0 in /usr/local/lib/python3.11/dist-packages (from spaCy) (24.2)\n",
            "Requirement already satisfied: langcodes<4.0.0,>=3.2.0 in /usr/local/lib/python3.11/dist-packages (from spaCy) (3.5.0)\n",
            "Requirement already satisfied: language-data>=1.2 in /usr/local/lib/python3.11/dist-packages (from langcodes<4.0.0,>=3.2.0->spaCy) (1.3.0)\n",
            "Requirement already satisfied: annotated-types>=0.6.0 in /usr/local/lib/python3.11/dist-packages (from pydantic!=1.8,!=1.8.1,<3.0.0,>=1.7.4->spaCy) (0.7.0)\n",
            "Requirement already satisfied: pydantic-core==2.33.1 in /usr/local/lib/python3.11/dist-packages (from pydantic!=1.8,!=1.8.1,<3.0.0,>=1.7.4->spaCy) (2.33.1)\n",
            "Requirement already satisfied: typing-extensions>=4.12.2 in /usr/local/lib/python3.11/dist-packages (from pydantic!=1.8,!=1.8.1,<3.0.0,>=1.7.4->spaCy) (4.13.1)\n",
            "Requirement already satisfied: typing-inspection>=0.4.0 in /usr/local/lib/python3.11/dist-packages (from pydantic!=1.8,!=1.8.1,<3.0.0,>=1.7.4->spaCy) (0.4.0)\n",
            "Requirement already satisfied: charset-normalizer<4,>=2 in /usr/local/lib/python3.11/dist-packages (from requests<3.0.0,>=2.13.0->spaCy) (3.4.1)\n",
            "Requirement already satisfied: idna<4,>=2.5 in /usr/local/lib/python3.11/dist-packages (from requests<3.0.0,>=2.13.0->spaCy) (3.10)\n",
            "Requirement already satisfied: urllib3<3,>=1.21.1 in /usr/local/lib/python3.11/dist-packages (from requests<3.0.0,>=2.13.0->spaCy) (2.3.0)\n",
            "Requirement already satisfied: certifi>=2017.4.17 in /usr/local/lib/python3.11/dist-packages (from requests<3.0.0,>=2.13.0->spaCy) (2025.1.31)\n",
            "Requirement already satisfied: blis<1.4.0,>=1.3.0 in /usr/local/lib/python3.11/dist-packages (from thinc<8.4.0,>=8.3.4->spaCy) (1.3.0)\n",
            "Requirement already satisfied: confection<1.0.0,>=0.0.1 in /usr/local/lib/python3.11/dist-packages (from thinc<8.4.0,>=8.3.4->spaCy) (0.1.5)\n",
            "Requirement already satisfied: click>=8.0.0 in /usr/local/lib/python3.11/dist-packages (from typer<1.0.0,>=0.3.0->spaCy) (8.1.8)\n",
            "Requirement already satisfied: shellingham>=1.3.0 in /usr/local/lib/python3.11/dist-packages (from typer<1.0.0,>=0.3.0->spaCy) (1.5.4)\n",
            "Requirement already satisfied: rich>=10.11.0 in /usr/local/lib/python3.11/dist-packages (from typer<1.0.0,>=0.3.0->spaCy) (13.9.4)\n",
            "Requirement already satisfied: cloudpathlib<1.0.0,>=0.7.0 in /usr/local/lib/python3.11/dist-packages (from weasel<0.5.0,>=0.1.0->spaCy) (0.21.0)\n",
            "Requirement already satisfied: smart-open<8.0.0,>=5.2.1 in /usr/local/lib/python3.11/dist-packages (from weasel<0.5.0,>=0.1.0->spaCy) (7.1.0)\n",
            "Requirement already satisfied: MarkupSafe>=2.0 in /usr/local/lib/python3.11/dist-packages (from jinja2->spaCy) (3.0.2)\n",
            "Requirement already satisfied: marisa-trie>=1.1.0 in /usr/local/lib/python3.11/dist-packages (from language-data>=1.2->langcodes<4.0.0,>=3.2.0->spaCy) (1.2.1)\n",
            "Requirement already satisfied: markdown-it-py>=2.2.0 in /usr/local/lib/python3.11/dist-packages (from rich>=10.11.0->typer<1.0.0,>=0.3.0->spaCy) (3.0.0)\n",
            "Requirement already satisfied: pygments<3.0.0,>=2.13.0 in /usr/local/lib/python3.11/dist-packages (from rich>=10.11.0->typer<1.0.0,>=0.3.0->spaCy) (2.18.0)\n",
            "Requirement already satisfied: wrapt in /usr/local/lib/python3.11/dist-packages (from smart-open<8.0.0,>=5.2.1->weasel<0.5.0,>=0.1.0->spaCy) (1.17.2)\n",
            "Requirement already satisfied: mdurl~=0.1 in /usr/local/lib/python3.11/dist-packages (from markdown-it-py>=2.2.0->rich>=10.11.0->typer<1.0.0,>=0.3.0->spaCy) (0.1.2)\n"
          ]
        }
      ],
      "source": [
        "pip install spaCy"
      ]
    },
    {
      "cell_type": "code",
      "source": [
        "import spacy\n",
        "\n",
        "spacy.cli.download(\"en_core_web_sm\")"
      ],
      "metadata": {
        "colab": {
          "base_uri": "https://localhost:8080/"
        },
        "id": "wjapYX6Yqhku",
        "outputId": "c5b8a2c2-ed8b-4139-c82c-101f896ae7fd"
      },
      "execution_count": null,
      "outputs": [
        {
          "output_type": "stream",
          "name": "stdout",
          "text": [
            "\u001b[38;5;2m✔ Download and installation successful\u001b[0m\n",
            "You can now load the package via spacy.load('en_core_web_sm')\n",
            "\u001b[38;5;3m⚠ Restart to reload dependencies\u001b[0m\n",
            "If you are in a Jupyter or Colab notebook, you may need to restart Python in\n",
            "order to load all the package's dependencies. You can do this by selecting the\n",
            "'Restart kernel' or 'Restart runtime' option.\n"
          ]
        }
      ]
    },
    {
      "cell_type": "code",
      "source": [
        "import json\n",
        "\n",
        "def generate_json_file(data, filename):\n",
        "    try:\n",
        "        with open(filename, 'w') as f:\n",
        "            json.dump(data, f, indent=4)  # indent=4 for pretty printing (optional)\n",
        "        print(f\"JSON data saved to {filename}\")\n",
        "    except Exception as e:\n",
        "        print(f\"Error saving JSON data: {e}\")\n",
        "\n",
        "medical_data = {\n",
        "  \"symptoms\": {\n",
        "    \"headache\": [\"common cold\", \"flu\", \"migraine\", \"tension headache\", \"sinusitis\"],\n",
        "    \"fever\": [\"common cold\", \"flu\", \"infection\", \"strep throat\"],\n",
        "    \"cough\": [\"common cold\", \"flu\", \"bronchitis\", \"pneumonia\", \"allergies\"],\n",
        "    \"sneezing\": [\"common cold\", \"flu\", \"allergies\"],\n",
        "    \"fatigue\": [\"common cold\", \"flu\", \"stress\", \"lack of sleep\", \"anemia\"],\n",
        "    \"nausea\": [\"flu\", \"food poisoning\", \"stomach virus\", \"migraine\", \"pregnancy\"],\n",
        "    \"vomiting\": [\"flu\", \"food poisoning\", \"stomach virus\", \"motion sickness\"],\n",
        "    \"diarrhea\": [\"stomach virus\", \"food poisoning\", \"irritable bowel syndrome\", \"lactose intolerance\"],\n",
        "    \"rash\": [\"allergies\", \"chickenpox\", \"measles\", \"eczema\", \"poison ivy\"],\n",
        "    \"dizziness\": [\"dehydration\", \"inner ear infection\", \"low blood sugar\", \"vertigo\"],\n",
        "    \"weakness\": [\"muscle strain\", \"flu\", \"electrolyte imbalance\", \"multiple sclerosis\"],\n",
        "    \"insomnia\": [\"stress\", \"anxiety\", \"depression\", \"sleep apnea\"],\n",
        "    \"itchy\": [\"allergies\", \"eczema\", \"dry skin\", \"psoriasis\"],\n",
        "    \"bloating\": [\"irritable bowel syndrome\", \"lactose intolerance\", \"food intolerance\", \"celiac disease\", \"constipation\"],\n",
        "    \"chills\": [\"flu\", \"common cold\", \"pneumonia\", \"infection\", \"sepsis\"],\n",
        "    \"constipation\": [\"irritable bowel syndrome\", \"dehydration\", \"lack of fiber\", \"medication side effects\", \"hypothyroidism\"],\n",
        "    \"sweating\": [\"anxiety\", \"menopause\", \"hyperthyroidism\", \"low blood sugar\", \"infection\"],\n",
        "    \"thirst\": [\"dehydration\", \"diabetes\", \"kidney problems\", \"medication side effects\"],\n",
        "    \"tremors\": [\"anxiety\", \"Parkinson's disease\", \"multiple sclerosis\", \"alcohol withdrawal\", \"low blood sugar\"],\n",
        "    \"weight gain\": [\"thyroid disorders\", \"diabetes\", \"depression\", \"eating disorders\", \"certain medications\"],\n",
        "    \"weight loss\": [\"thyroid disorders\", \"diabetes\", \"depression\", \"eating disorders\", \"cancer\", \"certain medications\"],\n",
        "    \"burning\": [\"urinary tract infection\", \"heartburn\", \"acid reflux\", \"sunburn\", \"nerve pain\"],\n",
        "    \"cramps\": [\"menstrual cramps\", \"muscle cramps\", \"dehydration\", \"irritable bowel syndrome\"],\n",
        "    \"discharge\": [\"vaginal infection\", \"STI\", \"ear infection\"],\n",
        "    \"pain\": [\"arthritis\", \"injury\", \"infection\", \"nerve damage\", \"cancer\"],\n",
        "    \"swelling\": [\"injury\", \"inflammation\", \"infection\", \"lymphedema\", \"heart failure\"],\n",
        "    \"tingling\": [\"nerve damage\", \"vitamin deficiency\", \"multiple sclerosis\", \"diabetes\"]\n",
        "  },\n",
        "  \"recommendations\": {\n",
        "    \"common cold\": \"Rest, stay hydrated, and consider over-the-counter medications for symptom relief.\",\n",
        "    \"flu\": \"Rest, stay hydrated, and consider over-the-counter medications for symptom relief.\",\n",
        "    \"migraine\": \"Rest in a quiet, dark room. Apply a cold compress to your forehead. Consider over-the-counter pain relievers.\",\n",
        "    \"tension headache\": \"Apply a warm compress to your neck and shoulders. Practice stress management techniques. Consider over-the-counter pain relievers.\",\n",
        "    \"sinusitis\": \"Use a humidifier or saline nasal spray. Consider over-the-counter pain relievers and decongestants.\",\n",
        "    \"infection\": \"Consult a doctor for diagnosis and appropriate treatment, which may include antibiotics.\",\n",
        "    \"strep throat\": \"Consult a doctor for diagnosis and appropriate treatment, which usually involves antibiotics.\",\n",
        "    \"tonsillitis\": \"Gargle with salt water and drink warm liquids. Consider over-the-counter pain relievers.\",\n",
        "    \"allergies\": \"Identify and avoid allergens. Consider over-the-counter antihistamines.\",\n",
        "    \"bronchitis\": \"Rest, stay hydrated, and use a humidifier. Consider over-the-counter pain relievers and cough suppressants.\",\n",
        "    \"pneumonia\": \"Consult a doctor for diagnosis and appropriate treatment, which may include antibiotics.\",\n",
        "    \"muscle strain\": \"Rest the affected muscle, apply ice, and consider over-the-counter pain relievers.\",\n",
        "    \"stress\": \"Practice stress management techniques such as exercise, meditation, or deep breathing.\",\n",
        "    \"lack of sleep\": \"Aim for 7-9 hours of quality sleep per night. Establish a regular sleep schedule.\",\n",
        "    \"food poisoning\": \"Stay hydrated and rest. Consider over-the-counter medications for symptom relief.\",\n",
        "    \"stomach virus\": \"Stay hydrated and rest. Consider over-the-counter medications for symptom relief.\",\n",
        "    \"irritable bowel syndrome\": \"Consult a doctor for diagnosis and management strategies. Dietary changes and stress management may help.\",\n",
        "    \"chickenpox\": \"Consult a doctor for diagnosis and treatment. Isolate yourself to prevent spreading the virus.\",\n",
        "    \"measles\": \"Consult a doctor for diagnosis and treatment. Isolate yourself to prevent spreading the virus.\",\n",
        "    \"eczema\": \"Keep your skin moisturized. Avoid triggers that worsen your eczema.\",\n",
        "    \"asthma\": \"Use your prescribed inhaler as directed. Avoid triggers that worsen your asthma.\",\n",
        "    \"heart attack\": \"Seek immediate medical attention. Call emergency services or go to the nearest hospital.\",\n",
        "    \"angina\": \"Consult a doctor for diagnosis and treatment. Follow your doctor's recommendations for managing your condition.\",\n",
        "    \"anxiety\": \"Practice relaxation techniques such as deep breathing and meditation. Seek professional help if anxiety is persistent or severe.\",\n",
        "    \"appendicitis\": \"Seek immediate medical attention. Call emergency services or go to the nearest hospital.\",\n",
        "    \"stomach ulcer\": \"Consult a doctor for diagnosis and treatment. Avoid foods and medications that irritate your stomach.\",\n",
        "    \"menstrual cramps\": \"Apply heat to your lower abdomen. Consider over-the-counter pain relievers.\",\n",
        "    \"irritable bowel syndrome\": \"Consult a doctor for diagnosis and management strategies. Dietary changes and stress management may help.\",\n",
        "    \"lactose intolerance\": \"Avoid consuming lactose-containing products. Consider lactase supplements.\",\n",
        "    \"food intolerance\": \"Identify and avoid trigger foods. Consult a doctor or registered dietitian for guidance.\",\n",
        "    \"celiac disease\": \"Maintain a strict gluten-free diet. Consult a doctor or registered dietitian for management.\",\n",
        "    \"sepsis\": \"Seek immediate medical attention. Sepsis is a life-threatening condition.\",\n",
        "    \"hypothyroidism\": \"Consult a doctor for diagnosis and treatment, which typically involves hormone replacement therapy.\",\n",
        "    \"menopause\": \"Discuss hormone replacement therapy or other management options with your doctor. Manage symptoms with lifestyle changes.\",\n",
        "    \"hyperthyroidism\": \"Consult a doctor for diagnosis and treatment, which may include medication, radioactive iodine therapy, or surgery.\",\n",
        "    \"Parkinson's disease\": \"Consult a neurologist for diagnosis and a comprehensive treatment plan.\",\n",
        "    \"multiple sclerosis\": \"Consult a neurologist for diagnosis and a comprehensive treatment plan.\",\n",
        "    \"alcohol withdrawal\": \"Seek medical supervision for safe detoxification. Support groups and therapy can aid in recovery.\",\n",
        "    \"urinary tract infection\": \"Consult a doctor for diagnosis and treatment, which usually involves antibiotics.\",\n",
        "    \"heartburn\": \"Avoid trigger foods, eat smaller meals, and don't lie down immediately after eating. Consider over-the-counter antacids.\",\n",
        "    \"acid reflux\": \"Similar to heartburn, avoid trigger foods, eat smaller meals, and don't lie down immediately after eating. Consult a doctor if symptoms persist.\",\n",
        "    \"sunburn\": \"Apply cool compresses and aloe vera. Avoid further sun exposure. Use sunscreen regularly.\",\n",
        "    \"nerve pain\": \"Consult a doctor for diagnosis and treatment, which may include medication, physical therapy, or other therapies.\",\n",
        "    \"arthritis\": \"Consult a doctor for diagnosis and a treatment plan, which may include medication, physical therapy, and lifestyle changes.\",\n",
        "    \"lymphedema\": \"Consult a doctor or lymphedema specialist for management, which may include compression therapy and specialized exercises.\",\n",
        "    \"heart failure\": \"Consult a cardiologist for diagnosis and a comprehensive treatment plan, which may include medication, lifestyle changes, and other therapies.\",\n",
        "    \"vaginal infection\": \"Consult a doctor for diagnosis and treatment, which may depend on the type of infection.\",\n",
        "    \"STI\": \"Consult a doctor for diagnosis and treatment.\"\n",
        "  }\n",
        "}\n",
        "generate_json_file(medical_data, \"medical_data.json\")"
      ],
      "metadata": {
        "colab": {
          "base_uri": "https://localhost:8080/"
        },
        "id": "VJn8buVWrI7K",
        "outputId": "1bf501cc-1ba1-45e6-ab4a-8dea84cf89a4"
      },
      "execution_count": null,
      "outputs": [
        {
          "output_type": "stream",
          "name": "stdout",
          "text": [
            "JSON data saved to medical_data.json\n"
          ]
        }
      ]
    },
    {
      "cell_type": "code",
      "source": [
        "def print_json_from_file(filename):\n",
        "    \"\"\"Prints the contents of a JSON file to the console with indentation.\"\"\"\n",
        "    try:\n",
        "        with open(filename, 'r') as f:\n",
        "            data = json.load(f)  # Load the JSON data\n",
        "            print(json.dumps(data, indent=4)) # Print with indentation\n",
        "    except FileNotFoundError:\n",
        "        print(f\"Error: File '{filename}' not found.\")\n",
        "    except json.JSONDecodeError:\n",
        "        print(f\"Error: Invalid JSON format in '{filename}'.\")\n",
        "    except Exception as e:  # Catch any other potential errors\n",
        "        print(f\"An error occurred: {e}\")\n",
        "print_json_from_file(\"medical_data.json\")"
      ],
      "metadata": {
        "colab": {
          "base_uri": "https://localhost:8080/"
        },
        "id": "OUBKv2obrOdO",
        "outputId": "7f2735cc-2c54-4d70-bfa5-21345a6bfc10"
      },
      "execution_count": null,
      "outputs": [
        {
          "output_type": "stream",
          "name": "stdout",
          "text": [
            "{\n",
            "    \"symptoms\": {\n",
            "        \"headache\": [\n",
            "            \"common cold\",\n",
            "            \"flu\",\n",
            "            \"migraine\",\n",
            "            \"tension headache\",\n",
            "            \"sinusitis\"\n",
            "        ],\n",
            "        \"fever\": [\n",
            "            \"common cold\",\n",
            "            \"flu\",\n",
            "            \"infection\",\n",
            "            \"strep throat\"\n",
            "        ],\n",
            "        \"cough\": [\n",
            "            \"common cold\",\n",
            "            \"flu\",\n",
            "            \"bronchitis\",\n",
            "            \"pneumonia\",\n",
            "            \"allergies\"\n",
            "        ],\n",
            "        \"sneezing\": [\n",
            "            \"common cold\",\n",
            "            \"flu\",\n",
            "            \"allergies\"\n",
            "        ],\n",
            "        \"fatigue\": [\n",
            "            \"common cold\",\n",
            "            \"flu\",\n",
            "            \"stress\",\n",
            "            \"lack of sleep\",\n",
            "            \"anemia\"\n",
            "        ],\n",
            "        \"nausea\": [\n",
            "            \"flu\",\n",
            "            \"food poisoning\",\n",
            "            \"stomach virus\",\n",
            "            \"migraine\",\n",
            "            \"pregnancy\"\n",
            "        ],\n",
            "        \"vomiting\": [\n",
            "            \"flu\",\n",
            "            \"food poisoning\",\n",
            "            \"stomach virus\",\n",
            "            \"motion sickness\"\n",
            "        ],\n",
            "        \"diarrhea\": [\n",
            "            \"stomach virus\",\n",
            "            \"food poisoning\",\n",
            "            \"irritable bowel syndrome\",\n",
            "            \"lactose intolerance\"\n",
            "        ],\n",
            "        \"rash\": [\n",
            "            \"allergies\",\n",
            "            \"chickenpox\",\n",
            "            \"measles\",\n",
            "            \"eczema\",\n",
            "            \"poison ivy\"\n",
            "        ],\n",
            "        \"dizziness\": [\n",
            "            \"dehydration\",\n",
            "            \"inner ear infection\",\n",
            "            \"low blood sugar\",\n",
            "            \"vertigo\"\n",
            "        ],\n",
            "        \"weakness\": [\n",
            "            \"muscle strain\",\n",
            "            \"flu\",\n",
            "            \"electrolyte imbalance\",\n",
            "            \"multiple sclerosis\"\n",
            "        ],\n",
            "        \"insomnia\": [\n",
            "            \"stress\",\n",
            "            \"anxiety\",\n",
            "            \"depression\",\n",
            "            \"sleep apnea\"\n",
            "        ],\n",
            "        \"itchy\": [\n",
            "            \"allergies\",\n",
            "            \"eczema\",\n",
            "            \"dry skin\",\n",
            "            \"psoriasis\"\n",
            "        ],\n",
            "        \"bloating\": [\n",
            "            \"irritable bowel syndrome\",\n",
            "            \"lactose intolerance\",\n",
            "            \"food intolerance\",\n",
            "            \"celiac disease\",\n",
            "            \"constipation\"\n",
            "        ],\n",
            "        \"chills\": [\n",
            "            \"flu\",\n",
            "            \"common cold\",\n",
            "            \"pneumonia\",\n",
            "            \"infection\",\n",
            "            \"sepsis\"\n",
            "        ],\n",
            "        \"constipation\": [\n",
            "            \"irritable bowel syndrome\",\n",
            "            \"dehydration\",\n",
            "            \"lack of fiber\",\n",
            "            \"medication side effects\",\n",
            "            \"hypothyroidism\"\n",
            "        ],\n",
            "        \"sweating\": [\n",
            "            \"anxiety\",\n",
            "            \"menopause\",\n",
            "            \"hyperthyroidism\",\n",
            "            \"low blood sugar\",\n",
            "            \"infection\"\n",
            "        ],\n",
            "        \"thirst\": [\n",
            "            \"dehydration\",\n",
            "            \"diabetes\",\n",
            "            \"kidney problems\",\n",
            "            \"medication side effects\"\n",
            "        ],\n",
            "        \"tremors\": [\n",
            "            \"anxiety\",\n",
            "            \"Parkinson's disease\",\n",
            "            \"multiple sclerosis\",\n",
            "            \"alcohol withdrawal\",\n",
            "            \"low blood sugar\"\n",
            "        ],\n",
            "        \"weight gain\": [\n",
            "            \"thyroid disorders\",\n",
            "            \"diabetes\",\n",
            "            \"depression\",\n",
            "            \"eating disorders\",\n",
            "            \"certain medications\"\n",
            "        ],\n",
            "        \"weight loss\": [\n",
            "            \"thyroid disorders\",\n",
            "            \"diabetes\",\n",
            "            \"depression\",\n",
            "            \"eating disorders\",\n",
            "            \"cancer\",\n",
            "            \"certain medications\"\n",
            "        ],\n",
            "        \"burning\": [\n",
            "            \"urinary tract infection\",\n",
            "            \"heartburn\",\n",
            "            \"acid reflux\",\n",
            "            \"sunburn\",\n",
            "            \"nerve pain\"\n",
            "        ],\n",
            "        \"cramps\": [\n",
            "            \"menstrual cramps\",\n",
            "            \"muscle cramps\",\n",
            "            \"dehydration\",\n",
            "            \"irritable bowel syndrome\"\n",
            "        ],\n",
            "        \"discharge\": [\n",
            "            \"vaginal infection\",\n",
            "            \"STI\",\n",
            "            \"ear infection\"\n",
            "        ],\n",
            "        \"pain\": [\n",
            "            \"arthritis\",\n",
            "            \"injury\",\n",
            "            \"infection\",\n",
            "            \"nerve damage\",\n",
            "            \"cancer\"\n",
            "        ],\n",
            "        \"swelling\": [\n",
            "            \"injury\",\n",
            "            \"inflammation\",\n",
            "            \"infection\",\n",
            "            \"lymphedema\",\n",
            "            \"heart failure\"\n",
            "        ],\n",
            "        \"tingling\": [\n",
            "            \"nerve damage\",\n",
            "            \"vitamin deficiency\",\n",
            "            \"multiple sclerosis\",\n",
            "            \"diabetes\"\n",
            "        ]\n",
            "    },\n",
            "    \"recommendations\": {\n",
            "        \"common cold\": \"Rest, stay hydrated, and consider over-the-counter medications for symptom relief.\",\n",
            "        \"flu\": \"Rest, stay hydrated, and consider over-the-counter medications for symptom relief.\",\n",
            "        \"migraine\": \"Rest in a quiet, dark room. Apply a cold compress to your forehead. Consider over-the-counter pain relievers.\",\n",
            "        \"tension headache\": \"Apply a warm compress to your neck and shoulders. Practice stress management techniques. Consider over-the-counter pain relievers.\",\n",
            "        \"sinusitis\": \"Use a humidifier or saline nasal spray. Consider over-the-counter pain relievers and decongestants.\",\n",
            "        \"infection\": \"Consult a doctor for diagnosis and appropriate treatment, which may include antibiotics.\",\n",
            "        \"strep throat\": \"Consult a doctor for diagnosis and appropriate treatment, which usually involves antibiotics.\",\n",
            "        \"tonsillitis\": \"Gargle with salt water and drink warm liquids. Consider over-the-counter pain relievers.\",\n",
            "        \"allergies\": \"Identify and avoid allergens. Consider over-the-counter antihistamines.\",\n",
            "        \"bronchitis\": \"Rest, stay hydrated, and use a humidifier. Consider over-the-counter pain relievers and cough suppressants.\",\n",
            "        \"pneumonia\": \"Consult a doctor for diagnosis and appropriate treatment, which may include antibiotics.\",\n",
            "        \"muscle strain\": \"Rest the affected muscle, apply ice, and consider over-the-counter pain relievers.\",\n",
            "        \"stress\": \"Practice stress management techniques such as exercise, meditation, or deep breathing.\",\n",
            "        \"lack of sleep\": \"Aim for 7-9 hours of quality sleep per night. Establish a regular sleep schedule.\",\n",
            "        \"food poisoning\": \"Stay hydrated and rest. Consider over-the-counter medications for symptom relief.\",\n",
            "        \"stomach virus\": \"Stay hydrated and rest. Consider over-the-counter medications for symptom relief.\",\n",
            "        \"irritable bowel syndrome\": \"Consult a doctor for diagnosis and management strategies. Dietary changes and stress management may help.\",\n",
            "        \"chickenpox\": \"Consult a doctor for diagnosis and treatment. Isolate yourself to prevent spreading the virus.\",\n",
            "        \"measles\": \"Consult a doctor for diagnosis and treatment. Isolate yourself to prevent spreading the virus.\",\n",
            "        \"eczema\": \"Keep your skin moisturized. Avoid triggers that worsen your eczema.\",\n",
            "        \"asthma\": \"Use your prescribed inhaler as directed. Avoid triggers that worsen your asthma.\",\n",
            "        \"heart attack\": \"Seek immediate medical attention. Call emergency services or go to the nearest hospital.\",\n",
            "        \"angina\": \"Consult a doctor for diagnosis and treatment. Follow your doctor's recommendations for managing your condition.\",\n",
            "        \"anxiety\": \"Practice relaxation techniques such as deep breathing and meditation. Seek professional help if anxiety is persistent or severe.\",\n",
            "        \"appendicitis\": \"Seek immediate medical attention. Call emergency services or go to the nearest hospital.\",\n",
            "        \"stomach ulcer\": \"Consult a doctor for diagnosis and treatment. Avoid foods and medications that irritate your stomach.\",\n",
            "        \"menstrual cramps\": \"Apply heat to your lower abdomen. Consider over-the-counter pain relievers.\",\n",
            "        \"lactose intolerance\": \"Avoid consuming lactose-containing products. Consider lactase supplements.\",\n",
            "        \"food intolerance\": \"Identify and avoid trigger foods. Consult a doctor or registered dietitian for guidance.\",\n",
            "        \"celiac disease\": \"Maintain a strict gluten-free diet. Consult a doctor or registered dietitian for management.\",\n",
            "        \"sepsis\": \"Seek immediate medical attention. Sepsis is a life-threatening condition.\",\n",
            "        \"hypothyroidism\": \"Consult a doctor for diagnosis and treatment, which typically involves hormone replacement therapy.\",\n",
            "        \"menopause\": \"Discuss hormone replacement therapy or other management options with your doctor. Manage symptoms with lifestyle changes.\",\n",
            "        \"hyperthyroidism\": \"Consult a doctor for diagnosis and treatment, which may include medication, radioactive iodine therapy, or surgery.\",\n",
            "        \"Parkinson's disease\": \"Consult a neurologist for diagnosis and a comprehensive treatment plan.\",\n",
            "        \"multiple sclerosis\": \"Consult a neurologist for diagnosis and a comprehensive treatment plan.\",\n",
            "        \"alcohol withdrawal\": \"Seek medical supervision for safe detoxification. Support groups and therapy can aid in recovery.\",\n",
            "        \"urinary tract infection\": \"Consult a doctor for diagnosis and treatment, which usually involves antibiotics.\",\n",
            "        \"heartburn\": \"Avoid trigger foods, eat smaller meals, and don't lie down immediately after eating. Consider over-the-counter antacids.\",\n",
            "        \"acid reflux\": \"Similar to heartburn, avoid trigger foods, eat smaller meals, and don't lie down immediately after eating. Consult a doctor if symptoms persist.\",\n",
            "        \"sunburn\": \"Apply cool compresses and aloe vera. Avoid further sun exposure. Use sunscreen regularly.\",\n",
            "        \"nerve pain\": \"Consult a doctor for diagnosis and treatment, which may include medication, physical therapy, or other therapies.\",\n",
            "        \"arthritis\": \"Consult a doctor for diagnosis and a treatment plan, which may include medication, physical therapy, and lifestyle changes.\",\n",
            "        \"lymphedema\": \"Consult a doctor or lymphedema specialist for management, which may include compression therapy and specialized exercises.\",\n",
            "        \"heart failure\": \"Consult a cardiologist for diagnosis and a comprehensive treatment plan, which may include medication, lifestyle changes, and other therapies.\",\n",
            "        \"vaginal infection\": \"Consult a doctor for diagnosis and treatment, which may depend on the type of infection.\",\n",
            "        \"STI\": \"Consult a doctor for diagnosis and treatment.\"\n",
            "    }\n",
            "}\n"
          ]
        }
      ]
    },
    {
      "cell_type": "code",
      "source": [
        "import spacy\n",
        "nlp = spacy.load(\"en_core_web_sm\")\n",
        "\n",
        "def extract_symptoms(user_input):\n",
        "    \"\"\"Extracts symptoms from user input using spaCy.\"\"\"\n",
        "    doc = nlp(user_input)\n",
        "    extracted_symptoms = []\n",
        "    ### YOUR CODE HERE ###\n",
        "\n",
        "    return extracted_symptoms\n",
        "\n",
        "user_input = \"I have a headache and a fever.\"\n",
        "user_symptoms = extract_symptoms(user_input)\n",
        "print(user_symptoms)"
      ],
      "metadata": {
        "colab": {
          "base_uri": "https://localhost:8080/"
        },
        "id": "YBcJmNulrVPY",
        "outputId": "0e078621-73c2-4b9d-87b8-2e2b77875750"
      },
      "execution_count": null,
      "outputs": [
        {
          "output_type": "stream",
          "name": "stdout",
          "text": [
            "[]\n"
          ]
        }
      ]
    },
    {
      "cell_type": "code",
      "source": [
        "def analyze_symptoms(extracted_symptoms):\n",
        "    \"\"\"Analyzes symptoms and returns possible conditions with counts.\"\"\"\n",
        "    possible_conditions = {}  # Use a dictionary to count occurrences\n",
        "    for symptom in extracted_symptoms:\n",
        "        ### YOUR CODE HERE ###\n",
        "\n",
        "      return possible_conditions"
      ],
      "metadata": {
        "id": "0GDMo3RDrZ6C"
      },
      "execution_count": null,
      "outputs": []
    },
    {
      "cell_type": "code",
      "source": [
        "# Checking your Results\n",
        "extracted_symptoms = [\"headache\", \"fever\"]\n",
        "possible_conditions = analyze_symptoms(extracted_symptoms)\n",
        "print(extracted_symptoms)\n",
        "print(possible_conditions)"
      ],
      "metadata": {
        "colab": {
          "base_uri": "https://localhost:8080/"
        },
        "id": "JGCwCMPhrpV5",
        "outputId": "8d7f45dc-3b57-4eb7-d313-00d6500cc996"
      },
      "execution_count": null,
      "outputs": [
        {
          "output_type": "stream",
          "name": "stdout",
          "text": [
            "['headache', 'fever']\n",
            "{}\n"
          ]
        }
      ]
    },
    {
      "cell_type": "code",
      "source": [
        "def generate_response(extracted_symptoms, possible_conditions):\n",
        "    \"\"\"Generates a response based on extracted symptoms and possible conditions.\"\"\"\n",
        "    response = \"\"\n",
        "    if extracted_symptoms:\n",
        "        response += \"I understand you have \" + \", \".join(extracted_symptoms) + \".\"  # Moved this line inside the if block\n",
        "\n",
        "        if possible_conditions:\n",
        "            sorted_conditions = sorted(possible_conditions.items(), key=lambda item: item[1], reverse=True)  # Sort by count\n",
        "            ### YOUR CODE HERE ###\n",
        "\n",
        "        else:\n",
        "            response += \"\\nI'm sorry, I don't recognize those symptoms.\\n\"\n",
        "    else:\n",
        "        response = \"I'm sorry, I didn't recognize any symptoms in your description.\"\n",
        "\n",
        "    response += \"Remember, I am just a chatbot and cannot provide definitive medical advice. Please consult a doctor for proper diagnosis and treatment.\"\n",
        "    return response\n",
        "\n"
      ],
      "metadata": {
        "id": "rQFDdTptrvWJ"
      },
      "execution_count": null,
      "outputs": []
    },
    {
      "cell_type": "code",
      "source": [
        "# Checking your Results\n",
        "extracted_symptoms = [\"headache\", \"fever\"]\n",
        "possible_conditions = {\n",
        "    \"common cold\": 2,\n",
        "    \"flu\": 2,\n",
        "    \"migraine\": 1\n",
        "}\n",
        "print(generate_response(extracted_symptoms, possible_conditions))\n"
      ],
      "metadata": {
        "colab": {
          "base_uri": "https://localhost:8080/"
        },
        "id": "Tii3YFzPrzDl",
        "outputId": "20403fd6-345f-48f4-9f37-5ac94bfdcc02"
      },
      "execution_count": null,
      "outputs": [
        {
          "output_type": "stream",
          "name": "stdout",
          "text": [
            "I understand you have headache, fever.Remember, I am just a chatbot and cannot provide definitive medical advice. Please consult a doctor for proper diagnosis and treatment.\n"
          ]
        }
      ]
    },
    {
      "cell_type": "markdown",
      "source": [
        "Step 3.4: Test the program\n",
        "Run the cell for Step 3.4a. No changes are necessary to this cell. Ensure you are able to get a diagnosis.\n",
        "\n",
        "Step 3.4a"
      ],
      "metadata": {
        "id": "SzyQi947r3Ik"
      }
    },
    {
      "cell_type": "code",
      "source": [
        "possible_conditions = []\n",
        "extracted_symptoms = []\n",
        "\n",
        "# Get user's symptoms\n",
        "user_input = input(\"Please enter your primary concern: \")\n",
        "\n",
        "# Extract symptoms\n",
        "extracted_symptoms = extract_symptoms(user_input)\n",
        "\n",
        "# Analyze symptoms\n",
        "possible_conditions = analyze_symptoms(extracted_symptoms)\n",
        "\n",
        "# Generate initial response\n",
        "response = generate_response(extracted_symptoms, possible_conditions)\n",
        "print(\"Chatbot:\", response)"
      ],
      "metadata": {
        "colab": {
          "base_uri": "https://localhost:8080/"
        },
        "id": "dNfjVI1yr34w",
        "outputId": "94753128-57af-4f14-ec9b-e92f526badcb"
      },
      "execution_count": null,
      "outputs": [
        {
          "output_type": "stream",
          "name": "stdout",
          "text": [
            "Please enter your primary concern: fever\n",
            "Chatbot: I'm sorry, I didn't recognize any symptoms in your description.Remember, I am just a chatbot and cannot provide definitive medical advice. Please consult a doctor for proper diagnosis and treatment.\n"
          ]
        }
      ]
    },
    {
      "cell_type": "markdown",
      "source": [],
      "metadata": {
        "id": "3J-cxGG5r_JL"
      }
    },
    {
      "cell_type": "markdown",
      "source": [
        "Step 4: Enhance the chatbot with multi-turn conversation\n",
        "Step 4 implements a loop that repeatedly asks the user for additional symptoms. Inside the loop, the chatbot takes the user's input and checks if they want to add more symptoms. If they do, it extracts any valid symptoms from their input and adds them to the list of extracted symptoms. It then re-analyzes the updated list of symptoms and generates a new response with the updated diagnosis and recommendations. If the user doesn't enter any new symptoms or enters an invalid symptom, the chatbot prompts them to try again. After the user finishes entering symptoms, the chatbot prints the final response with the complete diagnosis and recommendations.\n",
        "\n",
        "Step 4.1: Complete multi-turn conversation\n",
        "Complete the code to better handle a multi-turn conversation.\n",
        "\n",
        "Hints:\n",
        "\n",
        "Locate the area in Step 4.1a labeled ### YOUR CODE HERE ###\n",
        "You will need two lines of code to complete this function.\n",
        "Update the diagnosis: After adding the new_symptoms to the extracted_symptoms list, you need to re-analyze the symptoms to update the possible conditions. Use the analyze_symptoms() function for this.\n",
        "Generate a new response: After re-analyzing the symptoms, generate an updated response using the generate_response() function. Make sure to use the updated extracted_symptoms and possible_conditions as arguments.\n",
        "Run the cell to test the program.\n",
        "\n",
        "Step 4.1a¶"
      ],
      "metadata": {
        "id": "HyjLdexfsA4b"
      }
    },
    {
      "cell_type": "code",
      "source": [
        "while True:\n",
        "    additional_symptoms = input(\"Please enter an additional symptom, or 'no' if you have no more: \")\n",
        "    if additional_symptoms.lower() in (\"no\", \"nope\", \"none\"):\n",
        "        break  # Exit the loop if the user has no more symptoms\n",
        "\n",
        "    new_symptoms = extract_symptoms(additional_symptoms)\n",
        "    if new_symptoms:  # Only add and analyze if new symptoms are found\n",
        "        extracted_symptoms.extend(new_symptoms)\n",
        "        ### YOUR CODE HERE ###\n",
        "\n",
        "        print(\"Chatbot:\", response)  # Print the updated response\n",
        "    else:\n",
        "        print(\"Chatbot: I didn't recognize that symptom. Please try again.\")\n",
        "\n",
        "print(\"Chatbot:\", response)"
      ],
      "metadata": {
        "colab": {
          "base_uri": "https://localhost:8080/"
        },
        "id": "M38py4ULsBnU",
        "outputId": "c52c9f29-130c-41d5-9623-9c4482987cb1"
      },
      "execution_count": null,
      "outputs": [
        {
          "output_type": "stream",
          "name": "stdout",
          "text": [
            "Please enter an additional symptom, or 'no' if you have no more: no\n",
            "Chatbot: I'm sorry, I didn't recognize any symptoms in your description.Remember, I am just a chatbot and cannot provide definitive medical advice. Please consult a doctor for proper diagnosis and treatment.\n"
          ]
        }
      ]
    },
    {
      "cell_type": "markdown",
      "source": [
        "End of project and areas for improvement\n",
        "Congratulations on completing your medical diagnosis assistant chatbot! You've successfully built a chatbot that can:\n",
        "\n",
        "Extract symptoms from user input using spaCy.\n",
        "Analyze symptoms to identify potential medical conditions.\n",
        "Provide basic recommendations and advice.\n",
        "Engage in a multi-turn conversation.\n",
        "However, as with any real-world project, there's always room for improvement. Here are some areas you could explore to enhance your chatbot:\n",
        "\n",
        "More sophisticated diagnostic logic: Consider implementing more advanced techniques like weighted symptoms, symptom combinations, or decision trees to improve the accuracy of the diagnosis. For example, you could assign higher weights to more severe symptoms or create rules to identify specific combinations of symptoms that indicate particular conditions.\n",
        "Contextual awareness: Enhance the chatbot's ability to understand and utilize the context of the conversation to provide more relevant responses.\n",
        "User-specific information: Incorporate user details like age, gender, and medical history to personalize the diagnosis and recommendations. For example, you could avoid suggesting \"menstrual cramps\" as a possible condition for a male user.\n",
        "Error handling: Improve the chatbot's robustness by adding more comprehensive error handling for various scenarios, such as invalid input or missing data.\n",
        "External knowledge bases: Explore integrating more extensive medical knowledge bases or ontologies to provide a wider range of diagnoses and more detailed information.\n",
        "Ethical considerations: Continue to refine the chatbot's responses to ensure they are responsible, ethical, and prioritize the user's well-being. Always emphasize the importance of consulting a medical professional for accurate diagnosis and treatment.\n",
        "By exploring these areas for improvement, you can further develop your chatbot into a more sophisticated, reliable, and helpful tool for preliminary medical diagnosis."
      ],
      "metadata": {
        "id": "ePCZ0RXasG3X"
      }
    },
    {
      "cell_type": "code",
      "source": [],
      "metadata": {
        "id": "AfCIst3QsHxh"
      },
      "execution_count": null,
      "outputs": []
    }
  ]
}